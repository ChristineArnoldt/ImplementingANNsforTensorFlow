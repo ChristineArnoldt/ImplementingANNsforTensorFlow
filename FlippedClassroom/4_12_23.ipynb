{
 "cells": [
  {
   "cell_type": "code",
   "execution_count": 22,
   "metadata": {},
   "outputs": [],
   "source": [
    "import tensorflow as tf\n",
    "import tensorflow_datasets as tfds\n",
    "import numpy as np"
   ]
  },
  {
   "cell_type": "code",
   "execution_count": 23,
   "metadata": {},
   "outputs": [],
   "source": [
    "SHUFFLE_BUFFER_SIZE = 1000\n",
    "BATCH_SIZE = 64"
   ]
  },
  {
   "cell_type": "code",
   "execution_count": 24,
   "metadata": {},
   "outputs": [],
   "source": [
    "def preprocessing(img, label):\n",
    "    img = tf.cast(img, tf.float32)\n",
    "    img = (img/128)-1\n",
    "    label = tf.one_hot(label, depth=10)\n",
    "    return img, label\n",
    "\n",
    "def load_and_prep_cifar(batch_size, shuffle_buffer_size):\n",
    "    train = tfds.load(\"cifar10\", split=\"train\", as_supervised=True)\n",
    "    train = train.map(lambda img, label: preprocessing(img, label))\n",
    "    train = train.shuffle(shuffle_buffer_size).batch(batch_size).prefetch(2)\n",
    "    return train\n",
    "    "
   ]
  },
  {
   "cell_type": "code",
   "execution_count": 25,
   "metadata": {},
   "outputs": [],
   "source": [
    "train = load_and_prep_cifar(batch_size=BATCH_SIZE, shuffle_buffer_size=SHUFFLE_BUFFER_SIZE)\n"
   ]
  },
  {
   "cell_type": "code",
   "execution_count": 26,
   "metadata": {},
   "outputs": [],
   "source": [
    "def create_cifar_cnn(name=\"my_cnn\"):\n",
    "    inputs= tf.keras.Input(shape=(32,32,3),batch_size=BATCH_SIZE, dtype=tf.float32)\n",
    "    cnn_layer_1 = tf.keras.layers.Conv2D(activation=\"relu\", filters=5, kernel_size=3, padding=\"same\")\n",
    "    x = cnn_layer_1(inputs) # output shape: (batchsize, 32, 32, filters) -> images are 32x32\n",
    "    cnn_layer_2 = tf.keras.layers.Conv2D(activation=\"relu\", filters=10, kernel_size=3, padding=\"same\")\n",
    "    x = cnn_layer_2(x) # output shape: (batchsize, 32, 32, 10)\n",
    "    cnn_layer_3 = tf.keras.layers.Conv2D(activation=\"relu\", filters=64, kernel_size=3, padding=\"same\")\n",
    "    x = cnn_layer_3(x) # output shape: (batchsize, 32, 32, 64)\n",
    "    global_pooling = tf.keras.layers.GlobalAveragePooling2D()\n",
    "    x = global_pooling(x) # feature_vector shape: (batchsize, 64)\n",
    "    output_layer = tf.keras.layers.Dense(10, activation='softmax')\n",
    "    output= output_layer(x)\n",
    "    model = tf.keras.Model(inputs, output, name=name)\n",
    "    return model"
   ]
  },
  {
   "cell_type": "code",
   "execution_count": 29,
   "metadata": {},
   "outputs": [],
   "source": [
    "def train(num_epochs, batchsize, shuffle_buffer_size,lr):\n",
    "    model = create_cifar_cnn()\n",
    "    data = load_and_prep_cifar(batch_size=batchsize, shuffle_buffer_size=shuffle_buffer_size)\n",
    "    optimizer = tf.keras.optimizers.legacy.Adam(learning_rate=lr)\n",
    "    loss_f = tf.keras.losses.CategoricalCrossentropy()\n",
    "    for epoch in range(num_epochs):\n",
    "        losses = []\n",
    "        for x, t in data:\n",
    "            with tf.GradientTape() as tape:\n",
    "                pred = model(x)\n",
    "                l = loss_f(t, pred)\n",
    "            gradients = tape.gradient(l, model.trainable_variables)\n",
    "            optimizer.apply_gradients(grads_and_vars=zip(gradients, model.trainable_variables))\n",
    "            losses.append(l.numpy())\n",
    "        print(np.mean(losses))\n",
    "    "
   ]
  },
  {
   "cell_type": "code",
   "execution_count": 30,
   "metadata": {},
   "outputs": [
    {
     "name": "stdout",
     "output_type": "stream",
     "text": [
      "1.996641\n",
      "1.7562217\n",
      "1.7047511\n",
      "1.6720792\n",
      "1.6487033\n",
      "1.6261812\n",
      "1.6022413\n",
      "1.5810441\n",
      "1.5618553\n",
      "1.5418689\n"
     ]
    }
   ],
   "source": [
    "train(10, BATCH_SIZE, SHUFFLE_BUFFER_SIZE, lr=0.001)"
   ]
  }
 ],
 "metadata": {
  "kernelspec": {
   "display_name": "iannwtf",
   "language": "python",
   "name": "python3"
  },
  "language_info": {
   "codemirror_mode": {
    "name": "ipython",
    "version": 3
   },
   "file_extension": ".py",
   "mimetype": "text/x-python",
   "name": "python",
   "nbconvert_exporter": "python",
   "pygments_lexer": "ipython3",
   "version": "3.9.18"
  }
 },
 "nbformat": 4,
 "nbformat_minor": 2
}
