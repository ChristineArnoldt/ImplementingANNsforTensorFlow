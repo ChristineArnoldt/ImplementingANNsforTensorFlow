{
 "cells": [
  {
   "cell_type": "code",
   "execution_count": 1,
   "metadata": {},
   "outputs": [
    {
     "name": "stderr",
     "output_type": "stream",
     "text": [
      "/Users/christinearnoldt/mambaforge/envs/iannwtf/lib/python3.9/site-packages/tqdm/auto.py:21: TqdmWarning: IProgress not found. Please update jupyter and ipywidgets. See https://ipywidgets.readthedocs.io/en/stable/user_install.html\n",
      "  from .autonotebook import tqdm as notebook_tqdm\n"
     ]
    }
   ],
   "source": [
    "import tensorflow_datasets as tfds\n",
    "import tensorflow as tf"
   ]
  },
  {
   "cell_type": "code",
   "execution_count": 2,
   "metadata": {},
   "outputs": [],
   "source": [
    "BATCH_SIZE = 8"
   ]
  },
  {
   "cell_type": "code",
   "execution_count": null,
   "metadata": {},
   "outputs": [],
   "source": [
    "# FEHLERHAFT\n",
    "\n",
    "\n",
    "ds = tfds.load(\"fashion_mnist\", split=\"train\", as_supervised=True)\n",
    "ds = ds.map(lambda img, target: (tf.reshape(img, (-1,)), target))\n",
    "df = ds.map(lambda img, target: (tf.cast(img, tf.float32), target))\n",
    "ds = ds.map(lambda img, target: ((img/128.)-1, tf.one_hot(target, depth=10)))\n",
    "ds = ds.shuffle(1000).batch(BATCH_SIZE).prefetch(2)\n"
   ]
  },
  {
   "cell_type": "code",
   "execution_count": null,
   "metadata": {},
   "outputs": [],
   "source": [
    "class QuickFashionMNISTMLP(tf.keras.Model):\n",
    "    def __init__(self, layer_sizes):\n",
    "        super().__init__()\n",
    "        self.hidden_layers = [tf.keras.layers.Dense(ls, activation='relu') for ls in layer_sizes]\n",
    "        self.out_layer = tf.keras.layers.Dense(10, activation='softmax')\n",
    "    def call(self,x,training=True):\n",
    "        for layer in self.hidden_layers:\n",
    "            x = layer(x)\n",
    "        y = self.out_layer(x)\n",
    "        return y"
   ]
  },
  {
   "cell_type": "code",
   "execution_count": null,
   "metadata": {},
   "outputs": [],
   "source": [
    "def get_model_from_sequential(layer_sizes):\n",
    "    model = tf.keras.Sequential()\n",
    "    model.add(tf.keras.Input(shape=(784,), dtype=tf.float32))\n",
    "    \n",
    "    for ls in layer_sizes:\n",
    "        model.add(tf.keras.layers.Dense(ls, activation=\"relu\"))\n",
    "    model.add(tf.keras.layers.Dense(10,activation=\"softmax\"))\n",
    "    return model\n",
    "\n",
    "def quick_get_model_from_sequential(layer_sizes):\n",
    "    model = tf.keras.Sequential([[tf.keras.layers.Dense(ls, activation='relu') for ls in layer_sizes]+[tf.keras.layers.Dense(10,activation=\"softmax\")]])\n",
    "    return model"
   ]
  },
  {
   "cell_type": "code",
   "execution_count": null,
   "metadata": {},
   "outputs": [],
   "source": [
    "def get_model_from_functional(layer_sizes, name):\n",
    "    inputs = tf.keras.Input(shape=(784,), dtype=tf.float32)\n",
    "    x = inputs\n",
    "    for ls in layer_sizes:\n",
    "        x = tf.keras.layers.Dense(ls, activation=\"relu\")(x)\n",
    "    y = tf.keras.layers.Dense(10, activation=\"softmax\")(x)\n",
    "    model = tf.keras.Model(inputs=inputs, outputs=y, name=name)\n",
    "    return model"
   ]
  },
  {
   "cell_type": "code",
   "execution_count": null,
   "metadata": {},
   "outputs": [],
   "source": []
  }
 ],
 "metadata": {
  "kernelspec": {
   "display_name": "iannwtf",
   "language": "python",
   "name": "python3"
  },
  "language_info": {
   "codemirror_mode": {
    "name": "ipython",
    "version": 3
   },
   "file_extension": ".py",
   "mimetype": "text/x-python",
   "name": "python",
   "nbconvert_exporter": "python",
   "pygments_lexer": "ipython3",
   "version": "3.9.18"
  }
 },
 "nbformat": 4,
 "nbformat_minor": 2
}
